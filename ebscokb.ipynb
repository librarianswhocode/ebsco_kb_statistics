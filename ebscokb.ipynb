{
 "cells": [
  {
   "cell_type": "code",
   "execution_count": 98,
   "metadata": {},
   "outputs": [],
   "source": [
    "import pandas as pd"
   ]
  },
  {
   "cell_type": "code",
   "execution_count": 99,
   "metadata": {},
   "outputs": [],
   "source": [
    "#create the dataframe\n",
    "holdings = pd.read_csv(\"c:\\\\kb_all\\\\all_4_1_2021.csv\", low_memory=False)"
   ]
  },
  {
   "cell_type": "code",
   "execution_count": 100,
   "metadata": {},
   "outputs": [],
   "source": [
    "#drop trial databases and print holdings\n",
    "holdings = holdings[~holdings['PackageName'].isin([\"Library Print Journals\", \"Publisher's Site Access\"])]\n",
    "#drop holdings that are hidden from publication finder\n",
    "holdings = holdings[holdings[\"HideOnPublicationFinder\"] != \"Y\"]"
   ]
  },
  {
   "cell_type": "code",
   "execution_count": 101,
   "metadata": {},
   "outputs": [],
   "source": [
    "##Select only eJournals, Newspapers, Newsletters, Proceedings\n",
    "ejournal = holdings[holdings['ResourceType'].isin(['Journal', 'Newspaper', 'Newsletter', 'Proceedings'])]\n",
    "##select only rows that have the proxy url in the ProxiedURL column\n",
    "ejournal_paid = ejournal[ejournal['ProxiedURL'].str.contains('proxy.westernu.edu', regex=False, case=False, na=False)]\n",
    "#drop duplicates in Paid dataframe\n",
    "ejournal_new_paid = ejournal_paid.drop_duplicates('KBID')\n",
    "##select only rows that do not have the proxy url in the ProxiedURL column\n",
    "ejournal_open = ejournal[~ejournal['ProxiedURL'].str.contains('proxy.westernu.edu', regex=False, case=False, na=False)]\n",
    "#drop duplicates in Open Access dataframe\n",
    "ejournal_new_open = ejournal_open.drop_duplicates('KBID')"
   ]
  },
  {
   "cell_type": "code",
   "execution_count": 102,
   "metadata": {},
   "outputs": [],
   "source": [
    "#If KBID in Open Access and Paid dataframes match, drop row in Open Access dataframe\n",
    "cond = ejournal_new_open['KBID'].isin(ejournal_new_paid['KBID']) == True\n",
    "ejournal_new_open.drop(ejournal_new_open[cond].index, inplace = True)"
   ]
  },
  {
   "cell_type": "code",
   "execution_count": 103,
   "metadata": {},
   "outputs": [],
   "source": [
    "##Select only eBooks\n",
    "ebook = holdings[holdings['ResourceType']=='Book']\n",
    "##select only rows that have the proxy url in the ProxiedURL column\n",
    "ebook_paid = ebook[ebook['ProxiedURL'].str.contains('proxy.westernu.edu', regex=False, case=False, na=False)]\n",
    "#drop duplicates in Paid dataframe\n",
    "ebook_new_paid = ebook_paid.drop_duplicates('KBID')\n",
    "##select only rows that do not have the proxy url in the ProxiedURL column\n",
    "ebook_open = ebook[~ebook['ProxiedURL'].str.contains('proxy.westernu.edu', regex=False, case=False, na=False)]\n",
    "#drop duplicates in Open Access dataframe\n",
    "ebook_new_open = ebook_open.drop_duplicates('KBID')"
   ]
  },
  {
   "cell_type": "code",
   "execution_count": 104,
   "metadata": {},
   "outputs": [],
   "source": [
    "#If KBID in Open Access and Paid dataframes match, drop row in Open Access dataframe\n",
    "cond = ebook_new_open['KBID'].isin(ebook_new_paid['KBID']) == True\n",
    "ebook_new_open.drop(ebook_new_open[cond].index, inplace = True)"
   ]
  },
  {
   "cell_type": "code",
   "execution_count": 105,
   "metadata": {},
   "outputs": [
    {
     "data": {
      "text/plain": [
       "10720"
      ]
     },
     "execution_count": 105,
     "metadata": {},
     "output_type": "execute_result"
    }
   ],
   "source": [
    "ejournal_new_paid.KBID.count()"
   ]
  },
  {
   "cell_type": "code",
   "execution_count": 106,
   "metadata": {},
   "outputs": [
    {
     "data": {
      "text/plain": [
       "36167"
      ]
     },
     "execution_count": 106,
     "metadata": {},
     "output_type": "execute_result"
    }
   ],
   "source": [
    "ejournal_new_open.KBID.count()"
   ]
  },
  {
   "cell_type": "code",
   "execution_count": 107,
   "metadata": {},
   "outputs": [
    {
     "data": {
      "text/plain": [
       "8211"
      ]
     },
     "execution_count": 107,
     "metadata": {},
     "output_type": "execute_result"
    }
   ],
   "source": [
    "ebook_new_paid.KBID.count()"
   ]
  },
  {
   "cell_type": "code",
   "execution_count": 108,
   "metadata": {},
   "outputs": [
    {
     "data": {
      "text/plain": [
       "38734"
      ]
     },
     "execution_count": 108,
     "metadata": {},
     "output_type": "execute_result"
    }
   ],
   "source": [
    "ebook_new_open.KBID.count()"
   ]
  },
  {
   "cell_type": "code",
   "execution_count": 97,
   "metadata": {},
   "outputs": [],
   "source": [
    "##create csv file if necessary\n",
    "ejournal_new_paid.to_csv('c:\\kb\\kb_ejournal_paid_new.csv', index=False)\n",
    "ejournal_new_open.to_csv('c:\\kb\\kb_ejournal_open_new.csv', index=False)\n",
    "ebook_new_paid.to_csv('c:\\kb\\kb_ebook_paid_new.csv', index=False)\n",
    "ebook_new_open.to_csv('c:\\kb\\kb_ebook_open_new.csv', index=False)"
   ]
  }
 ],
 "metadata": {
  "kernelspec": {
   "display_name": "Python 3",
   "language": "python",
   "name": "python3"
  },
  "language_info": {
   "codemirror_mode": {
    "name": "ipython",
    "version": 3
   },
   "file_extension": ".py",
   "mimetype": "text/x-python",
   "name": "python",
   "nbconvert_exporter": "python",
   "pygments_lexer": "ipython3",
   "version": "3.7.3"
  }
 },
 "nbformat": 4,
 "nbformat_minor": 4
}
