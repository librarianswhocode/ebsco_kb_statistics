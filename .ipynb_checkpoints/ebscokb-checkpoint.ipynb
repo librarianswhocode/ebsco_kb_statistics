{
 "cells": [
  {
   "cell_type": "code",
   "execution_count": 9,
   "metadata": {},
   "outputs": [],
   "source": [
    "import pandas as pd\n",
    "import csv"
   ]
  },
  {
   "cell_type": "code",
   "execution_count": 10,
   "metadata": {},
   "outputs": [],
   "source": [
    "#create the dataframe\n",
    "holdings = pd.read_csv(\"c:\\\\users\\\\jencs\\\\Dropbox\\\\westernu\\\\kb_all\\\\all_4_1_2021.csv\", low_memory=False)"
   ]
  },
  {
   "cell_type": "code",
   "execution_count": 11,
   "metadata": {},
   "outputs": [],
   "source": [
    "#Drop Trial Databases and print holdings\n",
    "holdings = holdings[~holdings['PackageName'].isin([\"Library Print Journals\", \"CINAHL Plus with Full Text\", \"Health Business  FullTEXT Elite\", \"SocINDEX with Full Text\", \"MEDLINE with Full Text (EBSCO)\", \"Rehabilitation & Sports Medicine Source\", \"Dentistry & Oral Sciences Source\", \"SPORTDiscus with Full Text\", \"Education Source\", \"Publisher's Site WesternU Access\", \"MedOne Education\", \"MedOne Education Plus\"])]\n",
    "##Drop unnecessary columns\n",
    "holdings.drop(['AlternateTitle', 'URL', 'Illustrator', 'UserDefinedField1', 'UserDefinedField2', 'UserDefinedField3', 'UserDefinedField4', 'UserDefinedField5'], axis=1, inplace=True)"
   ]
  },
  {
   "cell_type": "code",
   "execution_count": 8,
   "metadata": {},
   "outputs": [],
   "source": [
    "##Select only eJournals, Newspapers, Newsletters, Proceedings\n",
    "ejournal = holdings[holdings['ResourceType'].isin(['Journal', 'Newspaper', 'Newsletter', 'Proceedings'])]"
   ]
  },
  {
   "cell_type": "code",
   "execution_count": null,
   "metadata": {},
   "outputs": [],
   "source": [
    "##select only rows that have the proxy url in the ProxiedURL column\n",
    "ejournal_paid = ejournal[ejournal['ProxiedURL'].str.contains('proxy.westernu.edu', regex=False, case=False, na=False)]\n",
    "#drop duplicates in Paid dataframe\n",
    "ejournal_new_paid = ejournal_paid.drop_duplicates('KBID')\n",
    "##select only rows that do not have the proxy url in the ProxiedURL column\n",
    "ejournal_open = ejournal[~ejournal['ProxiedURL'].str.contains('proxy.westernu.edu', regex=False, case=False, na=False)]\n",
    "#drop duplicates in Open Access dataframe\n",
    "ejournal_new_open = ejournal_open.drop_duplicates('KBID')"
   ]
  },
  {
   "cell_type": "code",
   "execution_count": 5,
   "metadata": {},
   "outputs": [],
   "source": [
    "#If KBID in Open Access and Paid dataframes match, drop row in Open Access dataframe\n",
    "cond = ejournal_new_open['KBID'].isin(ejournal_new_paid['KBID']) == True\n",
    "ejournal_new_open.drop(ejournal_new_open[cond].index, inplace = True)"
   ]
  },
  {
   "cell_type": "code",
   "execution_count": 4,
   "metadata": {},
   "outputs": [
    {
     "name": "stderr",
     "output_type": "stream",
     "text": [
      "C:\\Users\\jencs\\Miniconda3\\lib\\site-packages\\pandas\\core\\frame.py:3940: SettingWithCopyWarning: \n",
      "A value is trying to be set on a copy of a slice from a DataFrame\n",
      "\n",
      "See the caveats in the documentation: http://pandas.pydata.org/pandas-docs/stable/indexing.html#indexing-view-versus-copy\n",
      "  errors=errors)\n"
     ]
    }
   ],
   "source": [
    "##Select only eBooks\n",
    "ebook = holdings[holdings['ResourceType']=='Book']\n",
    "##select only rows that have the proxy url in the ProxiedURL column\n",
    "ebook_paid = ebook[ebook['ProxiedURL'].str.contains('proxy.westernu.edu', regex=False, case=False, na=False)]\n",
    "#drop duplicates in Paid dataframe\n",
    "ebook_new_paid = ebook_paid.drop_duplicates('KBID')\n",
    "##select only rows that do not have the proxy url in the ProxiedURL column\n",
    "ebook_open = ebook[~ebook['ProxiedURL'].str.contains('proxy.westernu.edu', regex=False, case=False, na=False)]\n",
    "#drop duplicates in Open Access dataframe\n",
    "ebook_new_open = ebook_open.drop_duplicates('KBID')"
   ]
  },
  {
   "cell_type": "code",
   "execution_count": 7,
   "metadata": {},
   "outputs": [],
   "source": [
    "#If KBID in Open Access and Paid dataframes match, drop row in Open Access dataframe\n",
    "cond = ebook_new_open['KBID'].isin(ebook_new_paid['KBID']) == True\n",
    "ebook_new_open.drop(ebook_new_open[cond].index, inplace = True)"
   ]
  },
  {
   "cell_type": "code",
   "execution_count": 8,
   "metadata": {},
   "outputs": [
    {
     "data": {
      "text/plain": [
       "10771"
      ]
     },
     "execution_count": 8,
     "metadata": {},
     "output_type": "execute_result"
    }
   ],
   "source": [
    "ejournal_new_paid.Title.count()"
   ]
  },
  {
   "cell_type": "code",
   "execution_count": 9,
   "metadata": {},
   "outputs": [
    {
     "data": {
      "text/plain": [
       "36157"
      ]
     },
     "execution_count": 9,
     "metadata": {},
     "output_type": "execute_result"
    }
   ],
   "source": [
    "ejournal_new_open.Title.count()"
   ]
  },
  {
   "cell_type": "code",
   "execution_count": 10,
   "metadata": {},
   "outputs": [
    {
     "data": {
      "text/plain": [
       "8282"
      ]
     },
     "execution_count": 10,
     "metadata": {},
     "output_type": "execute_result"
    }
   ],
   "source": [
    "ebook_new_paid.Title.count()"
   ]
  },
  {
   "cell_type": "code",
   "execution_count": 11,
   "metadata": {},
   "outputs": [
    {
     "data": {
      "text/plain": [
       "38733"
      ]
     },
     "execution_count": 11,
     "metadata": {},
     "output_type": "execute_result"
    }
   ],
   "source": [
    "ebook_new_open.Title.count()"
   ]
  },
  {
   "cell_type": "code",
   "execution_count": null,
   "metadata": {},
   "outputs": [],
   "source": [
    "##create csv file if necessary\n",
    "#ejournal_new_paid.to_csv('c:\\MyPythonScripts\\kb_ejournal_paid_new.csv', index=False)\n",
    "#ejournal_new_open.to_csv('c:\\MyPythonScripts\\kb_ejournal_open_new.csv', index=False)\n",
    "#ebook_new_paid.to_csv('c:\\MyPythonScripts\\kb_ebook_paid_new.csv', index=False)\n",
    "#ebook_new_open.to_csv('c:\\MyPythonScripts\\kb_ebook_open_new.csv', index=False)"
   ]
  }
 ],
 "metadata": {
  "kernelspec": {
   "display_name": "Python 3",
   "language": "python",
   "name": "python3"
  },
  "language_info": {
   "codemirror_mode": {
    "name": "ipython",
    "version": 3
   },
   "file_extension": ".py",
   "mimetype": "text/x-python",
   "name": "python",
   "nbconvert_exporter": "python",
   "pygments_lexer": "ipython3",
   "version": "3.7.3"
  }
 },
 "nbformat": 4,
 "nbformat_minor": 4
}
